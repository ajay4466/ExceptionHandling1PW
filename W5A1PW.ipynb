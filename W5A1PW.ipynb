{
 "cells": [
  {
   "cell_type": "markdown",
   "id": "905ad900-8075-4040-be78-7851641f65c7",
   "metadata": {},
   "source": [
    "Exception in python is basically an error which has occured during run time but it signifies the error isnt a syntax one and can be avoided by handling\n",
    "\n",
    "exception occur at run time and syntax error are encountered at compile time error \n",
    "\n"
   ]
  },
  {
   "cell_type": "code",
   "execution_count": 1,
   "id": "40ccf3f0-c995-4b1a-9703-1fc4a678f19b",
   "metadata": {},
   "outputs": [
    {
     "ename": "ZeroDivisionError",
     "evalue": "division by zero",
     "output_type": "error",
     "traceback": [
      "\u001b[0;31m---------------------------------------------------------------------------\u001b[0m",
      "\u001b[0;31mZeroDivisionError\u001b[0m                         Traceback (most recent call last)",
      "Cell \u001b[0;32mIn[1], line 2\u001b[0m\n\u001b[1;32m      1\u001b[0m \u001b[38;5;66;03m### when an exception is not handeled it disrupts the flow of program\u001b[39;00m\n\u001b[0;32m----> 2\u001b[0m \u001b[38;5;241;43m10\u001b[39;49m\u001b[38;5;241;43m/\u001b[39;49m\u001b[38;5;241;43m0\u001b[39;49m\n\u001b[1;32m      4\u001b[0m \u001b[38;5;66;03m### this is an divison by zero error\u001b[39;00m\n",
      "\u001b[0;31mZeroDivisionError\u001b[0m: division by zero"
     ]
    }
   ],
   "source": [
    "### when an exception is not handeled it disrupts the flow of program\n",
    "10/0\n",
    "\n",
    "### this is an divison by zero error"
   ]
  },
  {
   "cell_type": "code",
   "execution_count": 6,
   "id": "2938376a-5529-48ce-a4ab-7808e5f9f326",
   "metadata": {},
   "outputs": [
    {
     "name": "stdout",
     "output_type": "stream",
     "text": [
      "This is because denominator is 0 division by zero\n"
     ]
    },
    {
     "data": {
      "text/plain": [
       "2"
      ]
     },
     "execution_count": 6,
     "metadata": {},
     "output_type": "execute_result"
    }
   ],
   "source": [
    "### To catch and handle exception we use try and except method\n",
    "try:\n",
    "    10/0\n",
    "except ZeroDivisionError as e:\n",
    "    print(\"This is because denominator is 0\",e)\n",
    "1+1"
   ]
  },
  {
   "cell_type": "code",
   "execution_count": 12,
   "id": "798b1f45-e7cd-4426-b672-e610ecf32583",
   "metadata": {},
   "outputs": [
    {
     "name": "stdout",
     "output_type": "stream",
     "text": [
      "Theres no problem with try block\n"
     ]
    }
   ],
   "source": [
    "### try will excute the program and if no exception is encountered then it will skip to else statement \n",
    "\n",
    "\n",
    "\n",
    "try:\n",
    "    f = open(\"test1.txt\" , 'w')\n",
    "except Exception as e:\n",
    "    print(\"This is exception block\" ,e)\n",
    "else:\n",
    "    f.close()\n",
    "    print(\"Theres no problem with try block\")"
   ]
  },
  {
   "cell_type": "code",
   "execution_count": 14,
   "id": "a502026b-e99e-4b70-85a7-4700f6f385e5",
   "metadata": {},
   "outputs": [
    {
     "name": "stdout",
     "output_type": "stream",
     "text": [
      "This is exception block [Errno 2] No such file or directory: 'test2.txt'\n",
      "This is finally block\n"
     ]
    }
   ],
   "source": [
    "### finally block will always execute itself doesn't matter wheter the code runs or not\n",
    "\n",
    "try:\n",
    "    f = open(\"test2.txt\" , 'r')\n",
    "except Exception as e:\n",
    "    print(\"This is exception block\" ,e)\n",
    "finally:\n",
    "    print(\"This is finally block\")"
   ]
  },
  {
   "cell_type": "code",
   "execution_count": 15,
   "id": "fdceb54d-96fa-4081-9f2f-8bc140e0171f",
   "metadata": {},
   "outputs": [
    {
     "name": "stdout",
     "output_type": "stream",
     "text": [
      "This is exception block [Errno 2] No such file or directory: 'test2.txt'\n",
      "This is finally block\n"
     ]
    }
   ],
   "source": [
    "### raise is a keyword used for raising an exception\n",
    "try:\n",
    "    f = open(\"test2.txt\" , 'r')\n",
    "except Exception as e:\n",
    "    print(\"This is exception block\" ,e)\n",
    "finally:\n",
    "    print(\"This is finally block\")"
   ]
  },
  {
   "cell_type": "code",
   "execution_count": 2,
   "id": "cc9174e7-4ee0-4da1-9f3c-db79501d5b91",
   "metadata": {},
   "outputs": [
    {
     "ename": "CustomError",
     "evalue": "Example of Custom Exceptions in Python",
     "output_type": "error",
     "traceback": [
      "\u001b[0;31m---------------------------------------------------------------------------\u001b[0m",
      "\u001b[0;31mCustomError\u001b[0m                               Traceback (most recent call last)",
      "Cell \u001b[0;32mIn[2], line 6\u001b[0m\n\u001b[1;32m      3\u001b[0m \u001b[38;5;28;01mclass\u001b[39;00m \u001b[38;5;21;01mCustomError\u001b[39;00m(\u001b[38;5;167;01mException\u001b[39;00m):\n\u001b[1;32m      4\u001b[0m     \u001b[38;5;28;01mpass\u001b[39;00m\n\u001b[0;32m----> 6\u001b[0m \u001b[38;5;28;01mraise\u001b[39;00m CustomError(\u001b[38;5;124m\"\u001b[39m\u001b[38;5;124mExample of Custom Exceptions in Python\u001b[39m\u001b[38;5;124m\"\u001b[39m)\n",
      "\u001b[0;31mCustomError\u001b[0m: Example of Custom Exceptions in Python"
     ]
    }
   ],
   "source": [
    "###Customs exception are user created exception handling, which users create when they feel specfic error they will encounter\n",
    "\n",
    "class CustomError(Exception):\n",
    "    \n",
    "    pass\n",
    "\n",
    "raise CustomError(\"Example of Custom Exceptions in Python\")"
   ]
  },
  {
   "cell_type": "code",
   "execution_count": 1,
   "id": "e4f9422f-de86-4222-9c41-52956ede730c",
   "metadata": {},
   "outputs": [
    {
     "name": "stdin",
     "output_type": "stream",
     "text": [
      "Enter your age 1111\n"
     ]
    }
   ],
   "source": [
    "age = int(input(\"Enter your age\"))\n",
    "class agevalidation(Exception):\n",
    "    def __init__(self,msg):\n",
    "        self.msg = msg\n",
    "        "
   ]
  },
  {
   "cell_type": "code",
   "execution_count": 2,
   "id": "6757dd8d-6b1a-48eb-a249-6a8c005a83e9",
   "metadata": {},
   "outputs": [],
   "source": [
    "def check(age) : \n",
    "    if age < 0 :\n",
    "        raise agevalidation(\"entered age is negative \" )\n",
    "    elif age > 200 : \n",
    "        raise agevalidation(\"enterd age is very very high \" )\n",
    "    else :\n",
    "        print(\"age is valid\" )"
   ]
  },
  {
   "cell_type": "code",
   "execution_count": 3,
   "id": "46af6a95-be54-4b05-a370-605b16857e3e",
   "metadata": {},
   "outputs": [
    {
     "name": "stdin",
     "output_type": "stream",
     "text": [
      "Enter your age 1111\n"
     ]
    },
    {
     "name": "stdout",
     "output_type": "stream",
     "text": [
      "enterd age is very very high \n"
     ]
    }
   ],
   "source": [
    " try :\n",
    "    age = int(input(\"Enter your age\"))\n",
    "    check(age)\n",
    "except agevalidation as e:\n",
    "    print(e)"
   ]
  },
  {
   "cell_type": "code",
   "execution_count": null,
   "id": "a47c9853-d6a4-447e-9210-0046687470e0",
   "metadata": {},
   "outputs": [],
   "source": [
    "work/W5A1PW.ipynb"
   ]
  }
 ],
 "metadata": {
  "kernelspec": {
   "display_name": "Python 3 (ipykernel)",
   "language": "python",
   "name": "python3"
  },
  "language_info": {
   "codemirror_mode": {
    "name": "ipython",
    "version": 3
   },
   "file_extension": ".py",
   "mimetype": "text/x-python",
   "name": "python",
   "nbconvert_exporter": "python",
   "pygments_lexer": "ipython3",
   "version": "3.10.8"
  }
 },
 "nbformat": 4,
 "nbformat_minor": 5
}
